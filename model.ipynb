{
 "cells": [
  {
   "cell_type": "code",
   "execution_count": 1,
   "metadata": {},
   "outputs": [],
   "source": [
    "import pandas as pd\n",
    "import numpy as np\n",
    "from scipy import stats\n",
    "import matplotlib.pyplot as plt\n",
    "import seaborn as sns\n",
    "from pydataset import data\n",
    "import statistics\n",
    "from sklearn.model_selection import train_test_split\n",
    "from sklearn.tree import DecisionTreeClassifier, plot_tree\n",
    "from sklearn.metrics import classification_report\n",
    "from sklearn.metrics import confusion_matrix\n",
    "import sklearn\n",
    "import prepare\n",
    "import acquire"
   ]
  },
  {
   "cell_type": "markdown",
   "metadata": {},
   "source": [
    "What is your baseline prediction? What is your baseline accuracy? remember: your baseline prediction for a classification problem is predicting the most prevelant class in the training dataset (the mode). When you make those predictions, what is your accuracy? This is your baseline accuracy.\n"
   ]
  },
  {
   "cell_type": "code",
   "execution_count": 2,
   "metadata": {},
   "outputs": [
    {
     "name": "stdout",
     "output_type": "stream",
     "text": [
      "prepared df shape: (891, 9)\n",
      "train shape: (534, 9)\n",
      "validate shape: (178, 9)\n",
      "test shape: (179, 9)\n",
      "0 <--- mode of survived in training data / baseline prediction\n",
      "61.61% <--- accuracy of baseline prediciton in training data\n"
     ]
    }
   ],
   "source": [
    "titanic_df = prepare.prep_titanic()\n",
    "prediction_col = \"survived\"\n",
    "\n",
    "titanic_mod_df = titanic_df.drop(columns=[\"passenger_id\",\"embark_town\",\"sex\"])\n",
    "\n",
    "train_df,test_df,validate_df = prepare.split_function(titanic_mod_df,prediction_col)\n",
    "\n",
    "baseline_predict = train_df.survived.mode()[0]\n",
    "(train_df[prediction_col] == baseline_predict).mean()\n",
    "\n",
    "print(f\"{baseline_predict} <--- mode of survived in training data / baseline prediction\")\n",
    "print(f\"{(train_df[prediction_col] == baseline_predict).mean() * 100 :.2f}% <--- accuracy of baseline prediciton in training data\")\n"
   ]
  },
  {
   "cell_type": "code",
   "execution_count": 3,
   "metadata": {},
   "outputs": [],
   "source": [
    "X_train = train_df.drop(columns = [prediction_col])\n",
    "y_train = train_df[prediction_col]\n",
    "\n",
    "X_validate = validate_df.drop(columns = [prediction_col])\n",
    "y_validate = validate_df[prediction_col]\n",
    "\n",
    "X_test = test_df.drop(columns = [prediction_col])\n",
    "y_test = test_df[prediction_col]"
   ]
  },
  {
   "cell_type": "code",
   "execution_count": 4,
   "metadata": {},
   "outputs": [
    {
     "data": {
      "text/html": [
       "<div>\n",
       "<style scoped>\n",
       "    .dataframe tbody tr th:only-of-type {\n",
       "        vertical-align: middle;\n",
       "    }\n",
       "\n",
       "    .dataframe tbody tr th {\n",
       "        vertical-align: top;\n",
       "    }\n",
       "\n",
       "    .dataframe thead th {\n",
       "        text-align: right;\n",
       "    }\n",
       "</style>\n",
       "<table border=\"1\" class=\"dataframe\">\n",
       "  <thead>\n",
       "    <tr style=\"text-align: right;\">\n",
       "      <th></th>\n",
       "      <th>survived</th>\n",
       "      <th>pclass</th>\n",
       "      <th>sibsp</th>\n",
       "      <th>parch</th>\n",
       "      <th>fare</th>\n",
       "      <th>alone</th>\n",
       "      <th>sex_male</th>\n",
       "      <th>embark_town_Queenstown</th>\n",
       "      <th>embark_town_Southampton</th>\n",
       "    </tr>\n",
       "  </thead>\n",
       "  <tbody>\n",
       "    <tr>\n",
       "      <th>455</th>\n",
       "      <td>1</td>\n",
       "      <td>3</td>\n",
       "      <td>0</td>\n",
       "      <td>0</td>\n",
       "      <td>7.8958</td>\n",
       "      <td>1</td>\n",
       "      <td>1</td>\n",
       "      <td>0</td>\n",
       "      <td>0</td>\n",
       "    </tr>\n",
       "    <tr>\n",
       "      <th>380</th>\n",
       "      <td>1</td>\n",
       "      <td>1</td>\n",
       "      <td>0</td>\n",
       "      <td>0</td>\n",
       "      <td>227.5250</td>\n",
       "      <td>1</td>\n",
       "      <td>0</td>\n",
       "      <td>0</td>\n",
       "      <td>0</td>\n",
       "    </tr>\n",
       "    <tr>\n",
       "      <th>492</th>\n",
       "      <td>0</td>\n",
       "      <td>1</td>\n",
       "      <td>0</td>\n",
       "      <td>0</td>\n",
       "      <td>30.5000</td>\n",
       "      <td>1</td>\n",
       "      <td>1</td>\n",
       "      <td>0</td>\n",
       "      <td>1</td>\n",
       "    </tr>\n",
       "    <tr>\n",
       "      <th>55</th>\n",
       "      <td>1</td>\n",
       "      <td>1</td>\n",
       "      <td>0</td>\n",
       "      <td>0</td>\n",
       "      <td>35.5000</td>\n",
       "      <td>1</td>\n",
       "      <td>1</td>\n",
       "      <td>0</td>\n",
       "      <td>1</td>\n",
       "    </tr>\n",
       "    <tr>\n",
       "      <th>243</th>\n",
       "      <td>0</td>\n",
       "      <td>3</td>\n",
       "      <td>0</td>\n",
       "      <td>0</td>\n",
       "      <td>7.1250</td>\n",
       "      <td>1</td>\n",
       "      <td>1</td>\n",
       "      <td>0</td>\n",
       "      <td>1</td>\n",
       "    </tr>\n",
       "    <tr>\n",
       "      <th>...</th>\n",
       "      <td>...</td>\n",
       "      <td>...</td>\n",
       "      <td>...</td>\n",
       "      <td>...</td>\n",
       "      <td>...</td>\n",
       "      <td>...</td>\n",
       "      <td>...</td>\n",
       "      <td>...</td>\n",
       "      <td>...</td>\n",
       "    </tr>\n",
       "    <tr>\n",
       "      <th>695</th>\n",
       "      <td>0</td>\n",
       "      <td>2</td>\n",
       "      <td>0</td>\n",
       "      <td>0</td>\n",
       "      <td>13.5000</td>\n",
       "      <td>1</td>\n",
       "      <td>1</td>\n",
       "      <td>0</td>\n",
       "      <td>1</td>\n",
       "    </tr>\n",
       "    <tr>\n",
       "      <th>128</th>\n",
       "      <td>1</td>\n",
       "      <td>3</td>\n",
       "      <td>1</td>\n",
       "      <td>1</td>\n",
       "      <td>22.3583</td>\n",
       "      <td>0</td>\n",
       "      <td>0</td>\n",
       "      <td>0</td>\n",
       "      <td>0</td>\n",
       "    </tr>\n",
       "    <tr>\n",
       "      <th>636</th>\n",
       "      <td>0</td>\n",
       "      <td>3</td>\n",
       "      <td>0</td>\n",
       "      <td>0</td>\n",
       "      <td>7.9250</td>\n",
       "      <td>1</td>\n",
       "      <td>1</td>\n",
       "      <td>0</td>\n",
       "      <td>1</td>\n",
       "    </tr>\n",
       "    <tr>\n",
       "      <th>222</th>\n",
       "      <td>0</td>\n",
       "      <td>3</td>\n",
       "      <td>0</td>\n",
       "      <td>0</td>\n",
       "      <td>8.0500</td>\n",
       "      <td>1</td>\n",
       "      <td>1</td>\n",
       "      <td>0</td>\n",
       "      <td>1</td>\n",
       "    </tr>\n",
       "    <tr>\n",
       "      <th>496</th>\n",
       "      <td>1</td>\n",
       "      <td>1</td>\n",
       "      <td>1</td>\n",
       "      <td>0</td>\n",
       "      <td>78.2667</td>\n",
       "      <td>0</td>\n",
       "      <td>0</td>\n",
       "      <td>0</td>\n",
       "      <td>0</td>\n",
       "    </tr>\n",
       "  </tbody>\n",
       "</table>\n",
       "<p>534 rows × 9 columns</p>\n",
       "</div>"
      ],
      "text/plain": [
       "     survived  pclass  sibsp  parch      fare  alone  sex_male  \\\n",
       "455         1       3      0      0    7.8958      1         1   \n",
       "380         1       1      0      0  227.5250      1         0   \n",
       "492         0       1      0      0   30.5000      1         1   \n",
       "55          1       1      0      0   35.5000      1         1   \n",
       "243         0       3      0      0    7.1250      1         1   \n",
       "..        ...     ...    ...    ...       ...    ...       ...   \n",
       "695         0       2      0      0   13.5000      1         1   \n",
       "128         1       3      1      1   22.3583      0         0   \n",
       "636         0       3      0      0    7.9250      1         1   \n",
       "222         0       3      0      0    8.0500      1         1   \n",
       "496         1       1      1      0   78.2667      0         0   \n",
       "\n",
       "     embark_town_Queenstown  embark_town_Southampton  \n",
       "455                       0                        0  \n",
       "380                       0                        0  \n",
       "492                       0                        1  \n",
       "55                        0                        1  \n",
       "243                       0                        1  \n",
       "..                      ...                      ...  \n",
       "695                       0                        1  \n",
       "128                       0                        0  \n",
       "636                       0                        1  \n",
       "222                       0                        1  \n",
       "496                       0                        0  \n",
       "\n",
       "[534 rows x 9 columns]"
      ]
     },
     "execution_count": 4,
     "metadata": {},
     "output_type": "execute_result"
    }
   ],
   "source": [
    "train_df"
   ]
  },
  {
   "cell_type": "markdown",
   "metadata": {},
   "source": [
    "Fit the decision tree classifier to your training sample and transform (i.e. make predictions on the training sample)"
   ]
  },
  {
   "cell_type": "code",
   "execution_count": 5,
   "metadata": {},
   "outputs": [
    {
     "data": {
      "text/plain": [
       "<Figure size 1440x720 with 0 Axes>"
      ]
     },
     "metadata": {},
     "output_type": "display_data"
    },
    {
     "data": {
      "text/plain": [
       "<Figure size 1440x720 with 0 Axes>"
      ]
     },
     "metadata": {},
     "output_type": "display_data"
    },
    {
     "data": {
      "text/plain": [
       "<Figure size 1440x720 with 0 Axes>"
      ]
     },
     "metadata": {},
     "output_type": "display_data"
    },
    {
     "data": {
      "text/plain": [
       "<Figure size 1440x720 with 0 Axes>"
      ]
     },
     "metadata": {},
     "output_type": "display_data"
    }
   ],
   "source": [
    "clf_gini0 = DecisionTreeClassifier(random_state= 123, criterion=\"gini\")\n",
    "clf_gini0 = clf_gini0.fit(X_train,y_train)\n",
    "#clf_gini0.classes_ = str(clf_gini0.classes_)\n",
    "plt.figure(figsize=(20,10))\n",
    "#plot_tree(clf_gini0, feature_names=X_train.columns, class_names=clf_gini0.classes_, rounded=True)\n",
    "clf_gini1 = DecisionTreeClassifier(max_depth= 1,random_state= 123, criterion=\"gini\")\n",
    "clf_gini1 = clf_gini1.fit(X_train,y_train)\n",
    "#clf_gini1.classes_ = str(clf_gini1.classes_)\n",
    "plt.figure(figsize=(20,10))\n",
    "#plot_tree(clf_gini1, feature_names=X_train.columns, class_names=clf_gini1.classes_, rounded=True)\n",
    "clf_gini3 = DecisionTreeClassifier(max_depth= 3, random_state= 123, criterion=\"gini\")\n",
    "clf_gini3 = clf_gini3.fit(X_train,y_train)\n",
    "#clf_gini3.classes_ = str(clf_gini3.classes_)\n",
    "plt.figure(figsize=(20,10))\n",
    "#plot_tree(clf_gini3, feature_names=X_train.columns, class_names=clf_gini3.classes_, rounded=True)\n",
    "clf_gini5 = DecisionTreeClassifier(max_depth= 5,random_state= 123, criterion=\"gini\")\n",
    "clf_gini5 = clf_gini5.fit(X_train,y_train)\n",
    "#clf_gini5.classes_ = str(clf_gini5.classes_)\n",
    "plt.figure(figsize=(20,10))\n",
    "#plot_tree(clf_gini5, feature_names=X_train.columns, class_names=clf_gini5.classes_, rounded=True)\n",
    "plt.show()"
   ]
  },
  {
   "cell_type": "code",
   "execution_count": 6,
   "metadata": {},
   "outputs": [
    {
     "name": "stdout",
     "output_type": "stream",
     "text": [
      "[[0.75 0.25]\n",
      " [0.   1.  ]\n",
      " [0.5  0.5 ]\n",
      " [0.   1.  ]\n",
      " [1.   0.  ]] gini0\n",
      "[[0.81321839 0.18678161]\n",
      " [0.24731183 0.75268817]\n",
      " [0.81321839 0.18678161]\n",
      " [0.81321839 0.18678161]\n",
      " [0.81321839 0.18678161]] gini1\n",
      "[[0.905      0.095     ]\n",
      " [0.01785714 0.98214286]\n",
      " [0.69105691 0.30894309]\n",
      " [0.69105691 0.30894309]\n",
      " [0.905      0.095     ]] gini3\n",
      "[[0.9122807  0.0877193 ]\n",
      " [0.         1.        ]\n",
      " [0.60240964 0.39759036]\n",
      " [0.60240964 0.39759036]\n",
      " [0.9122807  0.0877193 ]] gini5\n"
     ]
    }
   ],
   "source": [
    "y_pred_gini0 = clf_gini0.predict(X_train)\n",
    "y_pred_proba_gini0 = clf_gini0.predict_proba(X_train)\n",
    "print(y_pred_proba_gini0[0:5],\"gini0\")\n",
    "y_pred_gini1 = clf_gini1.predict(X_train)\n",
    "y_pred_proba_gini1 = clf_gini1.predict_proba(X_train)\n",
    "print(y_pred_proba_gini1[0:5],\"gini1\")\n",
    "y_pred_gini3 = clf_gini3.predict(X_train)\n",
    "y_pred_proba_gini3 = clf_gini3.predict_proba(X_train)\n",
    "print(y_pred_proba_gini3[0:5],\"gini3\")\n",
    "y_pred_gini5 = clf_gini5.predict(X_train)\n",
    "y_pred_proba_gini5 = clf_gini5.predict_proba(X_train)\n",
    "print(y_pred_proba_gini5[0:5],\"gini5\")"
   ]
  },
  {
   "cell_type": "markdown",
   "metadata": {},
   "source": [
    "Evaluate your in-sample results using the model score, confusion matrix, and classification report."
   ]
  },
  {
   "cell_type": "code",
   "execution_count": 7,
   "metadata": {},
   "outputs": [
    {
     "name": "stdout",
     "output_type": "stream",
     "text": [
      "Accuracy of Decision Tree classifier(gini / no depth) on training set: 0.95\n",
      "Accuracy of Decision Tree classifier(gini / depth - 1) on training set: 0.79\n",
      "Accuracy of Decision Tree classifier(gini / depth - 3) on training set: 0.82\n",
      "Accuracy of Decision Tree classifier(gini / depth - 5) on training set: 0.83\n"
     ]
    }
   ],
   "source": [
    "#Remember that Accuracy is the number of correct predictions \n",
    "# over the number of total instances that have been evaluated.\n",
    "print('Accuracy of Decision Tree classifier(gini / no depth) on training set: {:.2f}'\n",
    "      .format(clf_gini0.score(X_train, y_train)))\n",
    "print('Accuracy of Decision Tree classifier(gini / depth - 1) on training set: {:.2f}'\n",
    "      .format(clf_gini1.score(X_train, y_train)))\n",
    "print('Accuracy of Decision Tree classifier(gini / depth - 3) on training set: {:.2f}'\n",
    "      .format(clf_gini3.score(X_train, y_train)))\n",
    "print('Accuracy of Decision Tree classifier(gini / depth - 5) on training set: {:.2f}'\n",
    "      .format(clf_gini5.score(X_train, y_train)))\n"
   ]
  },
  {
   "cell_type": "code",
   "execution_count": 8,
   "metadata": {},
   "outputs": [
    {
     "name": "stdout",
     "output_type": "stream",
     "text": [
      "     0    1\n",
      "0  327    2\n",
      "1   27  178\n",
      "^^^0^^^\n",
      "     0    1\n",
      "0  283   46\n",
      "1   65  140\n",
      "^^^1^^^\n",
      "     0    1\n",
      "0  295   34\n",
      "1   63  142\n",
      "^^^3^^^\n",
      "     0    1\n",
      "0  322    7\n",
      "1   82  123\n",
      "^^^5^^^\n"
     ]
    }
   ],
   "source": [
    "labels = sorted(y_train.unique())\n",
    "\n",
    "gini0_confusion = pd.DataFrame(confusion_matrix(y_train,y_pred_gini0),\n",
    "                                index=labels,\n",
    "                                columns=labels\n",
    "                                )\n",
    "TN0, FP0, FN0, TP0 = confusion_matrix(y_train,y_pred_gini0).ravel()\n",
    "print(gini0_confusion)\n",
    "print(\"^^^0^^^\")\n",
    "\n",
    "gini1_confusion = pd.DataFrame(confusion_matrix(y_train,y_pred_gini1),\n",
    "                                index=labels,\n",
    "                                columns=labels\n",
    "                                )\n",
    "TN1, FP1, FN1, TP1 = confusion_matrix(y_train,y_pred_gini1).ravel()\n",
    "print(gini1_confusion)\n",
    "print(\"^^^1^^^\")\n",
    "\n",
    "gini3_confusion = pd.DataFrame(confusion_matrix(y_train,y_pred_gini3),\n",
    "                                index=labels,\n",
    "                                columns=labels\n",
    "                                )\n",
    "TN3, FP3, FN3, TP3 = confusion_matrix(y_train,y_pred_gini3).ravel()\n",
    "print(gini3_confusion)\n",
    "print(\"^^^3^^^\")\n",
    "\n",
    "gini5_confusion = pd.DataFrame(confusion_matrix(y_train,y_pred_gini5),\n",
    "                                index=labels,\n",
    "                                columns=labels\n",
    "                                )\n",
    "TN5, FP5, FN5, TP5 = confusion_matrix(y_train,y_pred_gini5).ravel()\n",
    "print(gini5_confusion)\n",
    "print(\"^^^5^^^\")"
   ]
  },
  {
   "cell_type": "code",
   "execution_count": 9,
   "metadata": {},
   "outputs": [
    {
     "name": "stdout",
     "output_type": "stream",
     "text": [
      "              precision    recall  f1-score   support\n",
      "\n",
      "           0       0.92      0.99      0.96       329\n",
      "           1       0.99      0.87      0.92       205\n",
      "\n",
      "    accuracy                           0.95       534\n",
      "   macro avg       0.96      0.93      0.94       534\n",
      "weighted avg       0.95      0.95      0.94       534\n",
      " ---------------no depth set---------------\n",
      "              precision    recall  f1-score   support\n",
      "\n",
      "           0       0.81      0.86      0.84       329\n",
      "           1       0.75      0.68      0.72       205\n",
      "\n",
      "    accuracy                           0.79       534\n",
      "   macro avg       0.78      0.77      0.78       534\n",
      "weighted avg       0.79      0.79      0.79       534\n",
      " ---------------1 depth---------------\n",
      "              precision    recall  f1-score   support\n",
      "\n",
      "           0       0.82      0.90      0.86       329\n",
      "           1       0.81      0.69      0.75       205\n",
      "\n",
      "    accuracy                           0.82       534\n",
      "   macro avg       0.82      0.79      0.80       534\n",
      "weighted avg       0.82      0.82      0.82       534\n",
      " ---------------3 depth---------------\n",
      "              precision    recall  f1-score   support\n",
      "\n",
      "           0       0.80      0.98      0.88       329\n",
      "           1       0.95      0.60      0.73       205\n",
      "\n",
      "    accuracy                           0.83       534\n",
      "   macro avg       0.87      0.79      0.81       534\n",
      "weighted avg       0.85      0.83      0.82       534\n",
      " ---------------5 depth---------------\n"
     ]
    }
   ],
   "source": [
    "print(classification_report(y_train,y_pred_gini0), \"---------------no depth set---------------\")\n",
    "\n",
    "print(classification_report(y_train,y_pred_gini1), \"---------------1 depth---------------\")\n",
    "\n",
    "print(classification_report(y_train,y_pred_gini3), \"---------------3 depth---------------\")\n",
    "\n",
    "print(classification_report(y_train,y_pred_gini5), \"---------------5 depth---------------\")\n",
    "\n"
   ]
  },
  {
   "cell_type": "markdown",
   "metadata": {},
   "source": [
    "Compute: Accuracy, true positive rate, false positive rate, true negative rate, false negative rate, precision, recall, f1-score, and support."
   ]
  },
  {
   "cell_type": "code",
   "execution_count": 10,
   "metadata": {},
   "outputs": [
    {
     "name": "stdout",
     "output_type": "stream",
     "text": [
      "Accuracy of Decision Tree classifier(gini / no depth) on training set: 0.95\n",
      "True Positive/Recall of Decision Tree classifier(gini / no depth) on training set: 0.87\n",
      "False Positive/Fall-out of Decision Tree classifier(gini / no depth) on training set: 0.01\n",
      "True Negative/Specificity of Decision Tree classifier(gini / no depth) on training set: 0.99\n",
      "False Negative/Miss of Decision Tree classifier(gini / no depth) on training set: 0.13\n",
      "Precision/PPV of Decision Tree classifier(gini / no depth) on training set: 0.99\n",
      "\n",
      "Accuracy of Decision Tree classifier(gini / depth - 1) on training set: 0.79\n",
      "True Positive/Recall of Decision Tree classifier(gini / depth - 1) on training set: 0.68\n",
      "False Positive/Fall-out of Decision Tree classifier(gini / depth - 1) on training set: 0.14\n",
      "True Negative/Specificity of Decision Tree classifier(gini / depth - 1) on training set: 0.86\n",
      "False Negative/Miss of Decision Tree classifier(gini / depth - 1) on training set: 0.32\n",
      "Precision/PPV of Decision Tree classifier(gini / depth - 1) on training set: 0.75\n",
      "\n",
      "Accuracy of Decision Tree classifier(gini / depth - 3) on training set: 0.82\n",
      "True Positive/Recall of Decision Tree classifier(gini / depth - 3) on training set: 0.69\n",
      "False Positive/Fall-out of Decision Tree classifier(gini / depth - 3) on training set: 0.10\n",
      "True Negative/Specificity of Decision Tree classifier(gini / depth - 3) on training set: 0.90\n",
      "False Negative/Miss of Decision Tree classifier(gini / depth - 3) on training set: 0.31\n",
      "Precision/PPV of Decision Tree classifier(gini / depth - 3) on training set: 0.81\n",
      "\n",
      "Accuracy of Decision Tree classifier(gini / depth - 5) on training set: 0.83\n",
      "True Positive/Recall of Decision Tree classifier(gini / depth - 5) on training set: 0.60\n",
      "False Positive/Fall-out of Decision Tree classifier(gini / depth - 5) on training set: 0.02\n",
      "True Negative/Specificity of Decision Tree classifier(gini / depth - 5) on training set: 0.98\n",
      "False Negative/Miss of Decision Tree classifier(gini / depth - 5) on training set: 0.40\n",
      "Precision/PPV of Decision Tree classifier(gini / depth - 5) on training set: 0.95\n",
      "\n"
     ]
    }
   ],
   "source": [
    "print('Accuracy of Decision Tree classifier(gini / no depth) on training set: {:.2f}'\n",
    "      .format(clf_gini0.score(X_train, y_train)))\n",
    "print('True Positive/Recall of Decision Tree classifier(gini / no depth) on training set: {:.2f}'\n",
    "      .format(TP0/(TP0+FN0)))\n",
    "print('False Positive/Fall-out of Decision Tree classifier(gini / no depth) on training set: {:.2f}'\n",
    "      .format(FP0/(FP0+TN0)))\n",
    "print('True Negative/Specificity of Decision Tree classifier(gini / no depth) on training set: {:.2f}'\n",
    "      .format(TN0/(TN0+FP0)))\n",
    "print('False Negative/Miss of Decision Tree classifier(gini / no depth) on training set: {:.2f}'\n",
    "      .format(FN0/(FN0+TP0)))\n",
    "print('Precision/PPV of Decision Tree classifier(gini / no depth) on training set: {:.2f}'\n",
    "      .format(TP0/(TP0+FP0)))\n",
    "print()\n",
    "print('Accuracy of Decision Tree classifier(gini / depth - 1) on training set: {:.2f}'\n",
    "      .format(clf_gini1.score(X_train, y_train)))\n",
    "print('True Positive/Recall of Decision Tree classifier(gini / depth - 1) on training set: {:.2f}'\n",
    "      .format(TP1/(TP1+FN1)))\n",
    "print('False Positive/Fall-out of Decision Tree classifier(gini / depth - 1) on training set: {:.2f}'\n",
    "      .format(FP1/(FP1+TN1)))\n",
    "print('True Negative/Specificity of Decision Tree classifier(gini / depth - 1) on training set: {:.2f}'\n",
    "      .format(TN1/(TN1+FP1)))\n",
    "print('False Negative/Miss of Decision Tree classifier(gini / depth - 1) on training set: {:.2f}'\n",
    "      .format(FN1/(FN1+TP1)))\n",
    "print('Precision/PPV of Decision Tree classifier(gini / depth - 1) on training set: {:.2f}'\n",
    "      .format(TP1/(TP1+FP1)))\n",
    "print()\n",
    "\n",
    "print('Accuracy of Decision Tree classifier(gini / depth - 3) on training set: {:.2f}'\n",
    "      .format(clf_gini3.score(X_train, y_train)))\n",
    "print('True Positive/Recall of Decision Tree classifier(gini / depth - 3) on training set: {:.2f}'\n",
    "      .format(TP3/(TP3+FN3)))\n",
    "print('False Positive/Fall-out of Decision Tree classifier(gini / depth - 3) on training set: {:.2f}'\n",
    "      .format(FP3/(FP3+TN3)))\n",
    "print('True Negative/Specificity of Decision Tree classifier(gini / depth - 3) on training set: {:.2f}'\n",
    "      .format(TN3/(TN3+FP3)))\n",
    "print('False Negative/Miss of Decision Tree classifier(gini / depth - 3) on training set: {:.2f}'\n",
    "      .format(FN3/(FN3+TP3)))\n",
    "print('Precision/PPV of Decision Tree classifier(gini / depth - 3) on training set: {:.2f}'\n",
    "      .format(TP3/(TP3+FP3)))\n",
    "print()\n",
    "\n",
    "print('Accuracy of Decision Tree classifier(gini / depth - 5) on training set: {:.2f}'\n",
    "      .format(clf_gini5.score(X_train, y_train)))\n",
    "print('True Positive/Recall of Decision Tree classifier(gini / depth - 5) on training set: {:.2f}'\n",
    "      .format(TP5/(TP5+FN5)))\n",
    "print('False Positive/Fall-out of Decision Tree classifier(gini / depth - 5) on training set: {:.2f}'\n",
    "      .format(FP5/(FP5+TN5)))\n",
    "print('True Negative/Specificity of Decision Tree classifier(gini / depth - 5) on training set: {:.2f}'\n",
    "      .format(TN5/(TN5+FP5)))\n",
    "print('False Negative/Miss of Decision Tree classifier(gini / depth - 5) on training set: {:.2f}'\n",
    "      .format(FN5/(FN5+TP5)))\n",
    "print('Precision/PPV of Decision Tree classifier(gini / depth - 5) on training set: {:.2f}'\n",
    "      .format(TP5/(TP5+FP5)))\n",
    "print()"
   ]
  },
  {
   "cell_type": "markdown",
   "metadata": {},
   "source": [
    "Which model performs better on your in-sample data?\n",
    " - \"no depth model, high likelyhood of overfitting in validation though\""
   ]
  },
  {
   "cell_type": "markdown",
   "metadata": {},
   "source": [
    "\n",
    "Which model performs best on your out-of-sample data, the validate set?"
   ]
  },
  {
   "cell_type": "code",
   "execution_count": 11,
   "metadata": {},
   "outputs": [
    {
     "name": "stdout",
     "output_type": "stream",
     "text": [
      "Accuracy of Decision Tree classifier (gini0) on validate set: 0.74\n",
      "Accuracy of Decision Tree classifier (gini1) on validate set: 0.78\n",
      "Accuracy of Decision Tree classifier (gini3) on validate set: 0.79\n",
      "Accuracy of Decision Tree classifier (gini5) on validate set: 0.74\n"
     ]
    }
   ],
   "source": [
    "print('Accuracy of Decision Tree classifier (gini0) on validate set: {:.2f}'\n",
    "     .format(clf_gini0.score(X_validate, y_validate)))\n",
    "print('Accuracy of Decision Tree classifier (gini1) on validate set: {:.2f}'\n",
    "     .format(clf_gini1.score(X_validate, y_validate)))\n",
    "print('Accuracy of Decision Tree classifier (gini3) on validate set: {:.2f}'\n",
    "     .format(clf_gini3.score(X_validate, y_validate)))\n",
    "print('Accuracy of Decision Tree classifier (gini5) on validate set: {:.2f}'\n",
    "     .format(clf_gini5.score(X_validate, y_validate)))"
   ]
  },
  {
   "cell_type": "code",
   "execution_count": 12,
   "metadata": {},
   "outputs": [
    {
     "name": "stdout",
     "output_type": "stream",
     "text": [
      "              precision    recall  f1-score   support\n",
      "\n",
      "           0       0.79      0.79      0.79       110\n",
      "           1       0.66      0.66      0.66        68\n",
      "\n",
      "    accuracy                           0.74       178\n",
      "   macro avg       0.73      0.73      0.73       178\n",
      "weighted avg       0.74      0.74      0.74       178\n",
      "\n",
      "              precision    recall  f1-score   support\n",
      "\n",
      "           0       0.81      0.83      0.82       110\n",
      "           1       0.71      0.69      0.70        68\n",
      "\n",
      "    accuracy                           0.78       178\n",
      "   macro avg       0.76      0.76      0.76       178\n",
      "weighted avg       0.77      0.78      0.77       178\n",
      "\n",
      "              precision    recall  f1-score   support\n",
      "\n",
      "           0       0.81      0.86      0.84       110\n",
      "           1       0.75      0.68      0.71        68\n",
      "\n",
      "    accuracy                           0.79       178\n",
      "   macro avg       0.78      0.77      0.78       178\n",
      "weighted avg       0.79      0.79      0.79       178\n",
      "\n",
      "              precision    recall  f1-score   support\n",
      "\n",
      "           0       0.74      0.89      0.81       110\n",
      "           1       0.73      0.49      0.58        68\n",
      "\n",
      "    accuracy                           0.74       178\n",
      "   macro avg       0.74      0.69      0.70       178\n",
      "weighted avg       0.74      0.74      0.72       178\n",
      "\n"
     ]
    }
   ],
   "source": [
    "# Produce y_predictions that come from the X_validate\n",
    "y_pred_gini0_val = clf_gini0.predict(X_validate)\n",
    "# Compare actual y values (from validate) to predicted y_values from the model run on X_validate\n",
    "print(classification_report(y_validate, y_pred_gini0_val))\n",
    "\n",
    "y_pred_gini1_val = clf_gini1.predict(X_validate)\n",
    "print(classification_report(y_validate, y_pred_gini1_val))\n",
    "\n",
    "y_pred_gini3_val = clf_gini3.predict(X_validate)\n",
    "print(classification_report(y_validate, y_pred_gini3_val))\n",
    "\n",
    "y_pred_gini5_val = clf_gini5.predict(X_validate)\n",
    "print(classification_report(y_validate, y_pred_gini5_val))\n"
   ]
  },
  {
   "cell_type": "markdown",
   "metadata": {},
   "source": [
    "the model with a depth of 3\n",
    "              precision    recall  f1-score   support\n",
    "\n",
    "           0       0.81      0.86      0.84       110\n",
    "           1       0.75      0.68      0.71        68\n",
    "\n",
    "    accuracy                           0.79       178\n",
    "   macro avg       0.78      0.77      0.78       178\n",
    "weighted avg       0.79      0.79      0.79       178"
   ]
  },
  {
   "cell_type": "markdown",
   "metadata": {},
   "source": [
    "-\n",
    "-\n",
    "-\n",
    "-\n",
    "-\n",
    "-\n",
    "-\n",
    "-\n",
    "-\n",
    "-"
   ]
  },
  {
   "cell_type": "markdown",
   "metadata": {},
   "source": [
    "Work through these same exercises using the Telco dataset.\n",
    "Experiment with this model on other datasets with a higher number of output classes."
   ]
  },
  {
   "cell_type": "code",
   "execution_count": 30,
   "metadata": {},
   "outputs": [
    {
     "name": "stdout",
     "output_type": "stream",
     "text": [
      "prepared df shape: (7043, 31)\n",
      "train shape: (4225, 31)\n",
      "validate shape: (1409, 31)\n",
      "test shape: (1409, 31)\n",
      "0 <--- mode of survived in training data / baseline prediction\n",
      "73.47% <--- accuracy of baseline prediciton in training data\n"
     ]
    }
   ],
   "source": [
    "telco_df = prepare.prep_telco()\n",
    "telco_df.total_charges.replace({\" \":0,\"\":0},inplace=True)\n",
    "telco_df.total_charges = telco_df.total_charges.astype(float)\n",
    "prediction_col = \"churn_encoded\"\n",
    "\n",
    "train_df,test_df,validate_df = prepare.split_function(telco_df,prediction_col)\n",
    "\n",
    "baseline_predict = train_df[prediction_col].mode()[0]\n",
    "(train_df[prediction_col] == baseline_predict).mean()\n",
    "\n",
    "print(f\"{baseline_predict} <--- mode of survived in training data / baseline prediction\")\n",
    "print(f\"{(train_df[prediction_col] == baseline_predict).mean() * 100 :.2f}% <--- accuracy of baseline prediciton in training data\")\n"
   ]
  },
  {
   "cell_type": "code",
   "execution_count": 32,
   "metadata": {},
   "outputs": [
    {
     "name": "stdout",
     "output_type": "stream",
     "text": [
      "<class 'pandas.core.frame.DataFrame'>\n",
      "Int64Index: 4225 entries, 5911 to 3586\n",
      "Data columns (total 31 columns):\n",
      " #   Column                                 Non-Null Count  Dtype  \n",
      "---  ------                                 --------------  -----  \n",
      " 0   senior_citizen                         4225 non-null   int64  \n",
      " 1   tenure                                 4225 non-null   int64  \n",
      " 2   monthly_charges                        4225 non-null   float64\n",
      " 3   total_charges                          4225 non-null   float64\n",
      " 4   gender_encoded                         4225 non-null   int64  \n",
      " 5   partner_encoded                        4225 non-null   int64  \n",
      " 6   dependents_encoded                     4225 non-null   int64  \n",
      " 7   phone_service_encoded                  4225 non-null   int64  \n",
      " 8   paperless_billing_encoded              4225 non-null   int64  \n",
      " 9   churn_encoded                          4225 non-null   int64  \n",
      " 10  multiple_lines_No phone service        4225 non-null   uint8  \n",
      " 11  multiple_lines_Yes                     4225 non-null   uint8  \n",
      " 12  online_security_No internet service    4225 non-null   uint8  \n",
      " 13  online_security_Yes                    4225 non-null   uint8  \n",
      " 14  online_backup_No internet service      4225 non-null   uint8  \n",
      " 15  online_backup_Yes                      4225 non-null   uint8  \n",
      " 16  device_protection_No internet service  4225 non-null   uint8  \n",
      " 17  device_protection_Yes                  4225 non-null   uint8  \n",
      " 18  tech_support_No internet service       4225 non-null   uint8  \n",
      " 19  tech_support_Yes                       4225 non-null   uint8  \n",
      " 20  streaming_tv_No internet service       4225 non-null   uint8  \n",
      " 21  streaming_tv_Yes                       4225 non-null   uint8  \n",
      " 22  streaming_movies_No internet service   4225 non-null   uint8  \n",
      " 23  streaming_movies_Yes                   4225 non-null   uint8  \n",
      " 24  contract_type_One year                 4225 non-null   uint8  \n",
      " 25  contract_type_Two year                 4225 non-null   uint8  \n",
      " 26  internet_service_type_Fiber optic      4225 non-null   uint8  \n",
      " 27  internet_service_type_None             4225 non-null   uint8  \n",
      " 28  payment_type_Credit card (automatic)   4225 non-null   uint8  \n",
      " 29  payment_type_Electronic check          4225 non-null   uint8  \n",
      " 30  payment_type_Mailed check              4225 non-null   uint8  \n",
      "dtypes: float64(2), int64(8), uint8(21)\n",
      "memory usage: 449.7 KB\n"
     ]
    }
   ],
   "source": [
    "train_df.info()"
   ]
  },
  {
   "cell_type": "code",
   "execution_count": 33,
   "metadata": {},
   "outputs": [],
   "source": [
    "X_train = train_df.drop(columns = [prediction_col])\n",
    "y_train = train_df[prediction_col]\n",
    "\n",
    "X_validate = validate_df.drop(columns = [prediction_col])\n",
    "y_validate = validate_df[prediction_col]\n",
    "\n",
    "X_test = test_df.drop(columns = [prediction_col])\n",
    "y_test = test_df[prediction_col]"
   ]
  },
  {
   "cell_type": "code",
   "execution_count": 41,
   "metadata": {},
   "outputs": [],
   "source": [
    "clf_gini0 = DecisionTreeClassifier(random_state= 123, criterion=\"gini\")\n",
    "clf_gini0 = clf_gini0.fit(X_train,y_train)\n",
    "#clf_gini0.classes_ = str(clf_gini0.classes_)\n",
    "\n",
    "clf_gini1 = DecisionTreeClassifier(max_depth= 1,random_state= 123, criterion=\"gini\")\n",
    "clf_gini1 = clf_gini1.fit(X_train,y_train)\n",
    "#clf_gini1.classes_ = str(clf_gini1.classes_)\n",
    "#plt.figure(figsize=(20,10))\n",
    "#plot_tree(clf_gini1, feature_names=X_train.columns, class_names=clf_gini1.classes_, rounded=True)\n",
    "\n",
    "clf_gini3 = DecisionTreeClassifier(max_depth= 3, random_state= 123, criterion=\"gini\")\n",
    "clf_gini3 = clf_gini3.fit(X_train,y_train)\n",
    "#clf_gini3.classes_ = str(clf_gini3.classes_)\n",
    "#plt.figure(figsize=(20,10))\n",
    "#plot_tree(clf_gini3, feature_names=X_train.columns, class_names=clf_gini3.classes_, rounded=True)\n",
    "\n",
    "clf_gini5 = DecisionTreeClassifier(max_depth= 5,random_state= 123, criterion=\"gini\")\n",
    "clf_gini5 = clf_gini5.fit(X_train,y_train)\n",
    "\n",
    "clf_gini10 = DecisionTreeClassifier(max_depth= 10,random_state= 123, criterion=\"gini\")\n",
    "clf_gini10 = clf_gini10.fit(X_train,y_train)\n",
    "\n",
    "plt.show()"
   ]
  },
  {
   "cell_type": "code",
   "execution_count": 45,
   "metadata": {},
   "outputs": [
    {
     "name": "stdout",
     "output_type": "stream",
     "text": [
      "[[1. 0.]\n",
      " [1. 0.]\n",
      " [0. 1.]\n",
      " [1. 0.]\n",
      " [1. 0.]] gini0\n",
      "[[0.83953319 0.16046681]\n",
      " [0.83953319 0.16046681]\n",
      " [0.54079568 0.45920432]\n",
      " [0.83953319 0.16046681]\n",
      " [0.83953319 0.16046681]] gini1\n",
      "[[0.90279465 0.09720535]\n",
      " [0.90279465 0.09720535]\n",
      " [0.55027933 0.44972067]\n",
      " [0.98548621 0.01451379]\n",
      " [0.61388889 0.38611111]] gini3\n",
      "[[0.96463023 0.03536977]\n",
      " [0.96463023 0.03536977]\n",
      " [0.39156627 0.60843373]\n",
      " [0.99169435 0.00830565]\n",
      " [0.84375    0.15625   ]] gini5\n",
      "[[1.         0.        ]\n",
      " [0.91666667 0.08333333]\n",
      " [0.24137931 0.75862069]\n",
      " [1.         0.        ]\n",
      " [0.9        0.1       ]\n",
      " [1.         0.        ]\n",
      " [0.125      0.875     ]\n",
      " [0.025      0.975     ]\n",
      " [0.92857143 0.07142857]\n",
      " [0.         1.        ]] gini10\n"
     ]
    }
   ],
   "source": [
    "y_pred_gini0 = clf_gini0.predict(X_train)\n",
    "y_pred_proba_gini0 = clf_gini0.predict_proba(X_train)\n",
    "print(y_pred_proba_gini0[0:5],\"gini0\")\n",
    "y_pred_gini1 = clf_gini1.predict(X_train)\n",
    "y_pred_proba_gini1 = clf_gini1.predict_proba(X_train)\n",
    "print(y_pred_proba_gini1[0:5],\"gini1\")\n",
    "y_pred_gini3 = clf_gini3.predict(X_train)\n",
    "y_pred_proba_gini3 = clf_gini3.predict_proba(X_train)\n",
    "print(y_pred_proba_gini3[0:5],\"gini3\")\n",
    "y_pred_gini5 = clf_gini5.predict(X_train)\n",
    "y_pred_proba_gini5 = clf_gini5.predict_proba(X_train)\n",
    "print(y_pred_proba_gini5[0:5],\"gini5\")\n",
    "y_pred_gini10 = clf_gini10.predict(X_train)\n",
    "y_pred_proba_gini10 = clf_gini10.predict_proba(X_train)\n",
    "print(y_pred_proba_gini10[0:10],\"gini10\")"
   ]
  },
  {
   "cell_type": "code",
   "execution_count": 43,
   "metadata": {},
   "outputs": [
    {
     "name": "stdout",
     "output_type": "stream",
     "text": [
      "      0     1\n",
      "0  3103     1\n",
      "1     7  1114\n",
      "^^^0^^^\n",
      "      0  1\n",
      "0  3104  0\n",
      "1  1121  0\n",
      "^^^1^^^\n",
      "      0    1\n",
      "0  2902  202\n",
      "1   698  423\n",
      "^^^3^^^\n",
      "      0    1\n",
      "0  2752  352\n",
      "1   481  640\n",
      "^^^5^^^\n"
     ]
    }
   ],
   "source": [
    "labels = sorted(y_train.unique())\n",
    "\n",
    "gini0_confusion = pd.DataFrame(confusion_matrix(y_train,y_pred_gini0),\n",
    "                                index=labels,\n",
    "                                columns=labels\n",
    "                                )\n",
    "TN0, FP0, FN0, TP0 = confusion_matrix(y_train,y_pred_gini0).ravel()\n",
    "print(gini0_confusion)\n",
    "print(\"^^^0^^^\")\n",
    "\n",
    "gini1_confusion = pd.DataFrame(confusion_matrix(y_train,y_pred_gini1),\n",
    "                                index=labels,\n",
    "                                columns=labels\n",
    "                                )\n",
    "TN1, FP1, FN1, TP1 = confusion_matrix(y_train,y_pred_gini1).ravel()\n",
    "print(gini1_confusion)\n",
    "print(\"^^^1^^^\")\n",
    "\n",
    "gini3_confusion = pd.DataFrame(confusion_matrix(y_train,y_pred_gini3),\n",
    "                                index=labels,\n",
    "                                columns=labels\n",
    "                                )\n",
    "TN3, FP3, FN3, TP3 = confusion_matrix(y_train,y_pred_gini3).ravel()\n",
    "print(gini3_confusion)\n",
    "print(\"^^^3^^^\")\n",
    "\n",
    "gini5_confusion = pd.DataFrame(confusion_matrix(y_train,y_pred_gini5),\n",
    "                                index=labels,\n",
    "                                columns=labels\n",
    "                                )\n",
    "TN5, FP5, FN5, TP5 = confusion_matrix(y_train,y_pred_gini5).ravel()\n",
    "print(gini5_confusion)\n",
    "print(\"^^^5^^^\")\n",
    "\n",
    "gini10_confusion = pd.DataFrame(confusion_matrix(y_train,y_pred_gini10),\n",
    "                                index=labels,\n",
    "                                columns=labels\n",
    "                                )\n",
    "TN10, FP10, FN10, TP10 = confusion_matrix(y_train,y_pred_gini10).ravel()\n",
    "print(gini10_confusion)\n",
    "print(\"^^^10^^^\")"
   ]
  },
  {
   "cell_type": "code",
   "execution_count": 47,
   "metadata": {},
   "outputs": [
    {
     "name": "stdout",
     "output_type": "stream",
     "text": [
      "Accuracy of Decision Tree classifier(gini / no depth) on training set: 1.00\n",
      "Accuracy of Decision Tree classifier(gini / depth - 1) on training set: 0.73\n",
      "Accuracy of Decision Tree classifier(gini / depth - 3) on training set: 0.79\n",
      "Accuracy of Decision Tree classifier(gini / depth - 5) on training set: 0.80\n",
      "Accuracy of Decision Tree classifier(gini / depth - 10) on training set: 0.88\n"
     ]
    }
   ],
   "source": [
    "#Remember that Accuracy is the number of correct predictions \n",
    "# over the number of total instances that have been evaluated.\n",
    "print('Accuracy of Decision Tree classifier(gini / no depth) on training set: {:.2f}'\n",
    "      .format(clf_gini0.score(X_train, y_train)))\n",
    "print('Accuracy of Decision Tree classifier(gini / depth - 1) on training set: {:.2f}'\n",
    "      .format(clf_gini1.score(X_train, y_train)))\n",
    "print('Accuracy of Decision Tree classifier(gini / depth - 3) on training set: {:.2f}'\n",
    "      .format(clf_gini3.score(X_train, y_train)))\n",
    "print('Accuracy of Decision Tree classifier(gini / depth - 5) on training set: {:.2f}'\n",
    "      .format(clf_gini5.score(X_train, y_train)))\n",
    "print('Accuracy of Decision Tree classifier(gini / depth - 10) on training set: {:.2f}'\n",
    "      .format(clf_gini10.score(X_train, y_train)))\n"
   ]
  },
  {
   "cell_type": "code",
   "execution_count": 48,
   "metadata": {},
   "outputs": [
    {
     "name": "stdout",
     "output_type": "stream",
     "text": [
      "              precision    recall  f1-score   support\n",
      "\n",
      "           0       1.00      1.00      1.00      3104\n",
      "           1       1.00      0.99      1.00      1121\n",
      "\n",
      "    accuracy                           1.00      4225\n",
      "   macro avg       1.00      1.00      1.00      4225\n",
      "weighted avg       1.00      1.00      1.00      4225\n",
      " ---------------no depth set---------------\n",
      "              precision    recall  f1-score   support\n",
      "\n",
      "           0       0.73      1.00      0.85      3104\n",
      "           1       0.00      0.00      0.00      1121\n",
      "\n",
      "    accuracy                           0.73      4225\n",
      "   macro avg       0.37      0.50      0.42      4225\n",
      "weighted avg       0.54      0.73      0.62      4225\n",
      " ---------------1 depth---------------\n",
      "              precision    recall  f1-score   support\n",
      "\n",
      "           0       0.81      0.93      0.87      3104\n",
      "           1       0.68      0.38      0.48      1121\n",
      "\n",
      "    accuracy                           0.79      4225\n",
      "   macro avg       0.74      0.66      0.68      4225\n",
      "weighted avg       0.77      0.79      0.76      4225\n",
      " ---------------3 depth---------------\n",
      "              precision    recall  f1-score   support\n",
      "\n",
      "           0       0.85      0.89      0.87      3104\n",
      "           1       0.65      0.57      0.61      1121\n",
      "\n",
      "    accuracy                           0.80      4225\n",
      "   macro avg       0.75      0.73      0.74      4225\n",
      "weighted avg       0.80      0.80      0.80      4225\n",
      " ---------------5 depth---------------\n",
      "              precision    recall  f1-score   support\n",
      "\n",
      "           0       0.90      0.94      0.92      3104\n",
      "           1       0.82      0.72      0.77      1121\n",
      "\n",
      "    accuracy                           0.88      4225\n",
      "   macro avg       0.86      0.83      0.85      4225\n",
      "weighted avg       0.88      0.88      0.88      4225\n",
      " ---------------10 depth---------------\n"
     ]
    },
    {
     "name": "stderr",
     "output_type": "stream",
     "text": [
      "/usr/local/anaconda3/lib/python3.9/site-packages/sklearn/metrics/_classification.py:1318: UndefinedMetricWarning: Precision and F-score are ill-defined and being set to 0.0 in labels with no predicted samples. Use `zero_division` parameter to control this behavior.\n",
      "  _warn_prf(average, modifier, msg_start, len(result))\n",
      "/usr/local/anaconda3/lib/python3.9/site-packages/sklearn/metrics/_classification.py:1318: UndefinedMetricWarning: Precision and F-score are ill-defined and being set to 0.0 in labels with no predicted samples. Use `zero_division` parameter to control this behavior.\n",
      "  _warn_prf(average, modifier, msg_start, len(result))\n",
      "/usr/local/anaconda3/lib/python3.9/site-packages/sklearn/metrics/_classification.py:1318: UndefinedMetricWarning: Precision and F-score are ill-defined and being set to 0.0 in labels with no predicted samples. Use `zero_division` parameter to control this behavior.\n",
      "  _warn_prf(average, modifier, msg_start, len(result))\n"
     ]
    }
   ],
   "source": [
    "print(classification_report(y_train,y_pred_gini0), \"---------------no depth set---------------\")\n",
    "\n",
    "print(classification_report(y_train,y_pred_gini1), \"---------------1 depth---------------\")\n",
    "\n",
    "print(classification_report(y_train,y_pred_gini3), \"---------------3 depth---------------\")\n",
    "\n",
    "print(classification_report(y_train,y_pred_gini5), \"---------------5 depth---------------\")\n",
    "\n",
    "print(classification_report(y_train,y_pred_gini10), \"---------------10 depth---------------\")\n",
    "\n"
   ]
  },
  {
   "cell_type": "markdown",
   "metadata": {},
   "source": [
    "i'm seeing a trend where the more depth you add in the training the more accurate it will be (of course), however this does not help when moving into a different set of data (overfitting), so i'm not sure how to evaluate early how the models perform"
   ]
  },
  {
   "cell_type": "markdown",
   "metadata": {},
   "source": [
    "can drop depth of 1 due to falling below baseline metric"
   ]
  },
  {
   "cell_type": "code",
   "execution_count": 50,
   "metadata": {},
   "outputs": [
    {
     "name": "stdout",
     "output_type": "stream",
     "text": [
      "Accuracy of Decision Tree classifier (gini0) on validate set: 0.73\n",
      "Accuracy of Decision Tree classifier (gini3) on validate set: 0.79\n",
      "Accuracy of Decision Tree classifier (gini5) on validate set: 0.79\n",
      "Accuracy of Decision Tree classifier (gini10) on validate set: 0.76\n"
     ]
    }
   ],
   "source": [
    "print('Accuracy of Decision Tree classifier (gini0) on validate set: {:.2f}'\n",
    "     .format(clf_gini0.score(X_validate, y_validate)))\n",
    "print('Accuracy of Decision Tree classifier (gini3) on validate set: {:.2f}'\n",
    "     .format(clf_gini3.score(X_validate, y_validate)))\n",
    "print('Accuracy of Decision Tree classifier (gini5) on validate set: {:.2f}'\n",
    "     .format(clf_gini5.score(X_validate, y_validate)))\n",
    "print('Accuracy of Decision Tree classifier (gini10) on validate set: {:.2f}'\n",
    "     .format(clf_gini10.score(X_validate, y_validate)))"
   ]
  },
  {
   "cell_type": "code",
   "execution_count": 51,
   "metadata": {},
   "outputs": [
    {
     "name": "stdout",
     "output_type": "stream",
     "text": [
      "              precision    recall  f1-score   support\n",
      "\n",
      "           0       0.82      0.80      0.81      1035\n",
      "           1       0.48      0.51      0.49       374\n",
      "\n",
      "    accuracy                           0.73      1409\n",
      "   macro avg       0.65      0.66      0.65      1409\n",
      "weighted avg       0.73      0.73      0.73      1409\n",
      "\n",
      "^^^^ depth of all ^^^^\n",
      "              precision    recall  f1-score   support\n",
      "\n",
      "           0       0.81      0.94      0.87      1035\n",
      "           1       0.70      0.39      0.50       374\n",
      "\n",
      "    accuracy                           0.79      1409\n",
      "   macro avg       0.75      0.66      0.68      1409\n",
      "weighted avg       0.78      0.79      0.77      1409\n",
      "\n",
      "^^^^ depth of 3 ^^^^\n",
      "              precision    recall  f1-score   support\n",
      "\n",
      "           0       0.85      0.87      0.86      1035\n",
      "           1       0.62      0.57      0.60       374\n",
      "\n",
      "    accuracy                           0.79      1409\n",
      "   macro avg       0.74      0.72      0.73      1409\n",
      "weighted avg       0.79      0.79      0.79      1409\n",
      "\n",
      "^^^^ depth of 5 ^^^^\n",
      "              precision    recall  f1-score   support\n",
      "\n",
      "           0       0.82      0.86      0.84      1035\n",
      "           1       0.55      0.47      0.50       374\n",
      "\n",
      "    accuracy                           0.76      1409\n",
      "   macro avg       0.68      0.66      0.67      1409\n",
      "weighted avg       0.74      0.76      0.75      1409\n",
      "\n",
      "^^^^ depth of 10 ^^^^\n"
     ]
    }
   ],
   "source": [
    "# Produce y_predictions that come from the X_validate\n",
    "y_pred_gini0_val = clf_gini0.predict(X_validate)\n",
    "# Compare actual y values (from validate) to predicted y_values from the model run on X_validate\n",
    "print(classification_report(y_validate, y_pred_gini0_val))\n",
    "print(\"^^^^ depth of all ^^^^\")\n",
    "y_pred_gini3_val = clf_gini3.predict(X_validate)\n",
    "print(classification_report(y_validate, y_pred_gini3_val))\n",
    "print(\"^^^^ depth of 3 ^^^^\")\n",
    "y_pred_gini5_val = clf_gini5.predict(X_validate)\n",
    "print(classification_report(y_validate, y_pred_gini5_val))\n",
    "print(\"^^^^ depth of 5 ^^^^\")\n",
    "y_pred_gini10_val = clf_gini10.predict(X_validate)\n",
    "print(classification_report(y_validate, y_pred_gini10_val))\n",
    "print(\"^^^^ depth of 10 ^^^^\")"
   ]
  },
  {
   "cell_type": "markdown",
   "metadata": {},
   "source": [
    "looks like the overfit data matches up with the mode/baseline on accuracy\n",
    "\n",
    "accuracy : depth of 3 and 5 @ .79\n",
    "\n",
    "recall on death: depth of 3 @ .94\n",
    "\n",
    "recall on survived: depth of 5 @ .57\n",
    "\n",
    "precision on death: depth of 5 @ .85\n",
    "\n",
    "precision on survived: depth of 3 @ .78\n",
    "\n",
    "weighted avg f1: depth of 5 @ .79"
   ]
  },
  {
   "cell_type": "markdown",
   "metadata": {},
   "source": [
    "depending on what we are looking for, i would use model 3 ((recall on depth/precision on survived) good for as many real death as possible) or model 5 ((precision on death/recall on survived) as many death to be as correct as possible)"
   ]
  },
  {
   "cell_type": "markdown",
   "metadata": {},
   "source": []
  }
 ],
 "metadata": {
  "kernelspec": {
   "display_name": "Python 3.9.12 ('base')",
   "language": "python",
   "name": "python3"
  },
  "language_info": {
   "codemirror_mode": {
    "name": "ipython",
    "version": 3
   },
   "file_extension": ".py",
   "mimetype": "text/x-python",
   "name": "python",
   "nbconvert_exporter": "python",
   "pygments_lexer": "ipython3",
   "version": "3.9.12"
  },
  "orig_nbformat": 4,
  "vscode": {
   "interpreter": {
    "hash": "3067ead486e059ec00ffe7555bdb889e6e264a24dc711bf108106cc7baee8d5d"
   }
  }
 },
 "nbformat": 4,
 "nbformat_minor": 2
}
